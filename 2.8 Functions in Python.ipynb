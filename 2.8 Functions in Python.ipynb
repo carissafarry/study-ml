{
  "nbformat": 4,
  "nbformat_minor": 0,
  "metadata": {
    "colab": {
      "name": "2.8 Functions in Python.ipynb",
      "provenance": [],
      "authorship_tag": "ABX9TyP/JnPbid7pQY7AL8BiwXYk",
      "include_colab_link": true
    },
    "kernelspec": {
      "name": "python3",
      "display_name": "Python 3"
    },
    "language_info": {
      "name": "python"
    }
  },
  "cells": [
    {
      "cell_type": "markdown",
      "metadata": {
        "id": "view-in-github",
        "colab_type": "text"
      },
      "source": [
        "<a href=\"https://colab.research.google.com/github/carissafarry/study-ml/blob/main/2.8%20Functions%20in%20Python.ipynb\" target=\"_parent\"><img src=\"https://colab.research.google.com/assets/colab-badge.svg\" alt=\"Open In Colab\"/></a>"
      ]
    },
    {
      "cell_type": "markdown",
      "metadata": {
        "id": "qneYUzCqhrgZ"
      },
      "source": [
        "Functions:\n",
        "is a block of code that can be reused in a program\n",
        "\n",
        "#Factorial of a Number\n",
        "is the product of all positice integers less than or equal to the given number\n",
        "\n",
        "Factorial of 5 = 5.4.3.2.1 = 120"
      ]
    },
    {
      "cell_type": "code",
      "metadata": {
        "colab": {
          "base_uri": "https://localhost:8080/"
        },
        "id": "RLDqv6ZihlzA",
        "outputId": "f91042fa-591c-48e1-e360-669f072cacd3"
      },
      "source": [
        "number = int(input('Enter a number to find its factorial: '))\n",
        "\n",
        "fact = 1\n",
        "\n",
        "if number == 0:\n",
        "  print('The Factorial of 0 is 1')\n",
        "else:\n",
        "  for i in range(1, number+1):    # range (1,6) ===> 1,2,3,4,5\n",
        "    fact *= i\n",
        "  print('The Factorial of',number,'is',fact)\n"
      ],
      "execution_count": 5,
      "outputs": [
        {
          "output_type": "stream",
          "text": [
            "Enter a number to find its factorial: 10\n",
            "The Factorial of 10 is 3628800\n"
          ],
          "name": "stdout"
        }
      ]
    },
    {
      "cell_type": "markdown",
      "metadata": {
        "id": "uR_5g9pbjm_j"
      },
      "source": [
        "#Factorial Function"
      ]
    },
    {
      "cell_type": "code",
      "metadata": {
        "colab": {
          "base_uri": "https://localhost:8080/"
        },
        "id": "1uKOtamZjiUH",
        "outputId": "f023834e-19d8-4e12-c291-886448b70788"
      },
      "source": [
        "def fact_val(num):\n",
        "  fact = 1\n",
        "\n",
        "  if num == 0:\n",
        "    return fact\n",
        "  else:\n",
        "    for i in range(1, num+1):\n",
        "      fact*=i\n",
        "    return fact\n",
        "\n",
        "print(fact_val(5))"
      ],
      "execution_count": 7,
      "outputs": [
        {
          "output_type": "stream",
          "text": [
            "120\n"
          ],
          "name": "stdout"
        }
      ]
    },
    {
      "cell_type": "code",
      "metadata": {
        "colab": {
          "base_uri": "https://localhost:8080/"
        },
        "id": "aSyrUY-9kFMK",
        "outputId": "1565b7ba-8d5b-4493-bb82-d5a78958b6f4"
      },
      "source": [
        "print(fact_val(10))"
      ],
      "execution_count": 9,
      "outputs": [
        {
          "output_type": "stream",
          "text": [
            "3628800\n"
          ],
          "name": "stdout"
        }
      ]
    }
  ]
}