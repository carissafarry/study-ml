{
  "nbformat": 4,
  "nbformat_minor": 0,
  "metadata": {
    "colab": {
      "name": "3.1 Complete Numpy Tutorial in Python.ipynb",
      "provenance": [],
      "authorship_tag": "ABX9TyPxjTpZZo6/TJhORWpVnT2p",
      "include_colab_link": true
    },
    "kernelspec": {
      "name": "python3",
      "display_name": "Python 3"
    },
    "language_info": {
      "name": "python"
    }
  },
  "cells": [
    {
      "cell_type": "markdown",
      "metadata": {
        "id": "view-in-github",
        "colab_type": "text"
      },
      "source": [
        "<a href=\"https://colab.research.google.com/github/carissafarry/study-ml/blob/main/3.1%20Complete%20Numpy%20Tutorial%20in%20Python.ipynb\" target=\"_parent\"><img src=\"https://colab.research.google.com/assets/colab-badge.svg\" alt=\"Open In Colab\"/></a>"
      ]
    },
    {
      "cell_type": "markdown",
      "metadata": {
        "id": "KXjVCpOFaEaS"
      },
      "source": [
        "NumPy - Numerical Python\n",
        "\n",
        "Advantages of Numpy Arrays:\n",
        "1. Allows several Mathematical Operations\n",
        "2. Faster operations"
      ]
    },
    {
      "cell_type": "code",
      "metadata": {
        "id": "tiFhwXXck1FY"
      },
      "source": [
        "import numpy as np"
      ],
      "execution_count": 1,
      "outputs": []
    },
    {
      "cell_type": "markdown",
      "metadata": {
        "id": "W3rDdggwa5i2"
      },
      "source": [
        "#List vs Numpy - Time Taken"
      ]
    },
    {
      "cell_type": "code",
      "metadata": {
        "id": "AG3Szc54avET"
      },
      "source": [
        "from time import process_time"
      ],
      "execution_count": 2,
      "outputs": []
    },
    {
      "cell_type": "markdown",
      "metadata": {
        "id": "kHJgk40QbBpf"
      },
      "source": [
        "Time taken by a list"
      ]
    },
    {
      "cell_type": "code",
      "metadata": {
        "colab": {
          "base_uri": "https://localhost:8080/"
        },
        "id": "GY_ROG1MbAgq",
        "outputId": "91f4024a-cc22-4911-f36f-87b547965dc2"
      },
      "source": [
        "python_list = [i for i in range(10000)]\n",
        "\n",
        "start_time = process_time()\n",
        "\n",
        "python_list = [1+5 for i in python_list]\n",
        "\n",
        "end_time = process_time()\n",
        "\n",
        "print(end_time - start_time)"
      ],
      "execution_count": 4,
      "outputs": [
        {
          "output_type": "stream",
          "text": [
            "0.000506885000000068\n"
          ],
          "name": "stdout"
        }
      ]
    },
    {
      "cell_type": "code",
      "metadata": {
        "colab": {
          "base_uri": "https://localhost:8080/"
        },
        "id": "rsmD0V_4bIpB",
        "outputId": "59492d80-a73c-4884-b507-de743fbbb9d4"
      },
      "source": [
        "np_array = np.array([i for i in range(10000)])\n",
        "\n",
        "start_time = process_time()\n",
        "\n",
        "np_array += 5 \n",
        "\n",
        "end_time = process_time()\n",
        "\n",
        "print(end_time - start_time)"
      ],
      "execution_count": 6,
      "outputs": [
        {
          "output_type": "stream",
          "text": [
            "0.0009231579999999795\n"
          ],
          "name": "stdout"
        }
      ]
    },
    {
      "cell_type": "markdown",
      "metadata": {
        "id": "TAoLwsnBcHbn"
      },
      "source": [
        "#Numpy Arrays"
      ]
    },
    {
      "cell_type": "code",
      "metadata": {
        "colab": {
          "base_uri": "https://localhost:8080/"
        },
        "id": "atbZqGb-bjTD",
        "outputId": "06193906-2d1b-4680-e4bf-5b24b4736246"
      },
      "source": [
        "# list\n",
        "l1 = [1,2,3,4,5]\n",
        "print(l1)\n",
        "type(l1)"
      ],
      "execution_count": 7,
      "outputs": [
        {
          "output_type": "stream",
          "text": [
            "[1, 2, 3, 4, 5]\n"
          ],
          "name": "stdout"
        },
        {
          "output_type": "execute_result",
          "data": {
            "text/plain": [
              "list"
            ]
          },
          "metadata": {
            "tags": []
          },
          "execution_count": 7
        }
      ]
    },
    {
      "cell_type": "code",
      "metadata": {
        "colab": {
          "base_uri": "https://localhost:8080/"
        },
        "id": "rf_62gqdcNB2",
        "outputId": "566592c1-59df-41a3-adb8-7c46475560a0"
      },
      "source": [
        "np_ar = np.array([1,2,3,4,5])\n",
        "print(np_ar)\n",
        "type(np_ar)"
      ],
      "execution_count": 8,
      "outputs": [
        {
          "output_type": "stream",
          "text": [
            "[1 2 3 4 5]\n"
          ],
          "name": "stdout"
        },
        {
          "output_type": "execute_result",
          "data": {
            "text/plain": [
              "numpy.ndarray"
            ]
          },
          "metadata": {
            "tags": []
          },
          "execution_count": 8
        }
      ]
    },
    {
      "cell_type": "code",
      "metadata": {
        "colab": {
          "base_uri": "https://localhost:8080/"
        },
        "id": "53EzOOqDcWjZ",
        "outputId": "b426abb9-4583-468e-fd20-77c11b65d19d"
      },
      "source": [
        "# creating a 1 dimension array\n",
        "a = np.array([1,2,3,4])\n",
        "print(a)"
      ],
      "execution_count": 9,
      "outputs": [
        {
          "output_type": "stream",
          "text": [
            "[1 2 3 4]\n"
          ],
          "name": "stdout"
        }
      ]
    },
    {
      "cell_type": "code",
      "metadata": {
        "colab": {
          "base_uri": "https://localhost:8080/"
        },
        "id": "69FLmhx8cfXt",
        "outputId": "f13dbd34-5dd0-4715-d6bb-871f515b6afd"
      },
      "source": [
        "a.shape"
      ],
      "execution_count": 10,
      "outputs": [
        {
          "output_type": "execute_result",
          "data": {
            "text/plain": [
              "(4,)"
            ]
          },
          "metadata": {
            "tags": []
          },
          "execution_count": 10
        }
      ]
    },
    {
      "cell_type": "code",
      "metadata": {
        "colab": {
          "base_uri": "https://localhost:8080/"
        },
        "id": "vRbmxDaVchs1",
        "outputId": "0027711b-4a6f-44be-a3ce-99e1573af078"
      },
      "source": [
        "b = np.array([(1,2,3,4),(5,6,7,8)])\n",
        "print(b)\n",
        "b.shape"
      ],
      "execution_count": 11,
      "outputs": [
        {
          "output_type": "stream",
          "text": [
            "[[1 2 3 4]\n",
            " [5 6 7 8]]\n"
          ],
          "name": "stdout"
        },
        {
          "output_type": "execute_result",
          "data": {
            "text/plain": [
              "(2, 4)"
            ]
          },
          "metadata": {
            "tags": []
          },
          "execution_count": 11
        }
      ]
    },
    {
      "cell_type": "code",
      "metadata": {
        "colab": {
          "base_uri": "https://localhost:8080/"
        },
        "id": "Xu5zB2q4cn1t",
        "outputId": "b00c0f3b-b7f2-40b0-8538-874e591cf501"
      },
      "source": [
        "c = np.array(b,dtype=float)\n",
        "print(c)"
      ],
      "execution_count": 13,
      "outputs": [
        {
          "output_type": "stream",
          "text": [
            "[[1. 2. 3. 4.]\n",
            " [5. 6. 7. 8.]]\n"
          ],
          "name": "stdout"
        }
      ]
    },
    {
      "cell_type": "markdown",
      "metadata": {
        "id": "lWCrZQ8Oc9v2"
      },
      "source": [
        "#Initial Placeholders in numpy arrays"
      ]
    },
    {
      "cell_type": "code",
      "metadata": {
        "colab": {
          "base_uri": "https://localhost:8080/"
        },
        "id": "cwBcogBTc1Ll",
        "outputId": "a9231663-a6d8-4134-a66b-09fe9206acbd"
      },
      "source": [
        "# cretae a numpy array of zeros\n",
        "x = np.zeros((4,5))\n",
        "print(x)"
      ],
      "execution_count": 14,
      "outputs": [
        {
          "output_type": "stream",
          "text": [
            "[[0. 0. 0. 0. 0.]\n",
            " [0. 0. 0. 0. 0.]\n",
            " [0. 0. 0. 0. 0.]\n",
            " [0. 0. 0. 0. 0.]]\n"
          ],
          "name": "stdout"
        }
      ]
    },
    {
      "cell_type": "code",
      "metadata": {
        "colab": {
          "base_uri": "https://localhost:8080/"
        },
        "id": "_pks7DONdQPM",
        "outputId": "2dc91aa7-677c-4d9f-e083-3add77e701a8"
      },
      "source": [
        "# create a numpy array of ones\n",
        "y = np.ones((3,3))\n",
        "print(y)"
      ],
      "execution_count": 15,
      "outputs": [
        {
          "output_type": "stream",
          "text": [
            "[[1. 1. 1.]\n",
            " [1. 1. 1.]\n",
            " [1. 1. 1.]]\n"
          ],
          "name": "stdout"
        }
      ]
    },
    {
      "cell_type": "code",
      "metadata": {
        "colab": {
          "base_uri": "https://localhost:8080/"
        },
        "id": "f-pDdilqdWMq",
        "outputId": "e1d4cf22-16b9-4c92-8713-00f51afcd0ee"
      },
      "source": [
        "# array of a particular value\n",
        "z = np.full((5,4),5)\n",
        "print(z)"
      ],
      "execution_count": 17,
      "outputs": [
        {
          "output_type": "stream",
          "text": [
            "[[5 5 5 5]\n",
            " [5 5 5 5]\n",
            " [5 5 5 5]\n",
            " [5 5 5 5]\n",
            " [5 5 5 5]]\n"
          ],
          "name": "stdout"
        }
      ]
    },
    {
      "cell_type": "code",
      "metadata": {
        "colab": {
          "base_uri": "https://localhost:8080/"
        },
        "id": "Uukrmc8tdgOQ",
        "outputId": "28dcefb3-e38b-404c-ccba-6d5c06608c98"
      },
      "source": [
        "# create an identity matrix\n",
        "a = np.eye(4)\n",
        "print(a)"
      ],
      "execution_count": 18,
      "outputs": [
        {
          "output_type": "stream",
          "text": [
            "[[1. 0. 0. 0.]\n",
            " [0. 1. 0. 0.]\n",
            " [0. 0. 1. 0.]\n",
            " [0. 0. 0. 1.]]\n"
          ],
          "name": "stdout"
        }
      ]
    },
    {
      "cell_type": "code",
      "metadata": {
        "colab": {
          "base_uri": "https://localhost:8080/"
        },
        "id": "k-8li3avd1j5",
        "outputId": "5f0cf024-e04f-4dc7-d9d1-54e161e50ebb"
      },
      "source": [
        "# create a numpy array with random values\n",
        "b = np.random.random((3,4))\n",
        "print(b)"
      ],
      "execution_count": 19,
      "outputs": [
        {
          "output_type": "stream",
          "text": [
            "[[0.01300233 0.29835719 0.29646303 0.65035492]\n",
            " [0.35900219 0.24810819 0.43198744 0.78269707]\n",
            " [0.10956508 0.45070608 0.51368738 0.49303503]]\n"
          ],
          "name": "stdout"
        }
      ]
    },
    {
      "cell_type": "code",
      "metadata": {
        "colab": {
          "base_uri": "https://localhost:8080/"
        },
        "id": "bb2CjlUqd_fB",
        "outputId": "1c99785d-7c7d-4055-d49c-40582e28e51b"
      },
      "source": [
        "# random integer values array within a spesific range\n",
        "c = np.random.randint(10,100,(3,5))\n",
        "print(c)"
      ],
      "execution_count": 20,
      "outputs": [
        {
          "output_type": "stream",
          "text": [
            "[[88 85 56 67 57]\n",
            " [83 46 91 64 18]\n",
            " [77 26 84 26 65]]\n"
          ],
          "name": "stdout"
        }
      ]
    },
    {
      "cell_type": "code",
      "metadata": {
        "colab": {
          "base_uri": "https://localhost:8080/"
        },
        "id": "cJ9VTa4beVj5",
        "outputId": "274fea9c-c878-45cb-8774-083acb5230ba"
      },
      "source": [
        "# array of evenly spaced value (jarak angka tertentu) (mendefinisikan jumlah angka keluar yang diminta)\n",
        "d = np.linspace(10,30,3)\n",
        "print(d)"
      ],
      "execution_count": 25,
      "outputs": [
        {
          "output_type": "stream",
          "text": [
            "[10. 20. 30.]\n"
          ],
          "name": "stdout"
        }
      ]
    },
    {
      "cell_type": "code",
      "metadata": {
        "colab": {
          "base_uri": "https://localhost:8080/"
        },
        "id": "ptv9v_rBepEE",
        "outputId": "7192b4d8-23ab-4161-877d-7379844c1e97"
      },
      "source": [
        "# array of evenly spaced values --> specifying the step (mendefinisikan jaraknya)\n",
        "e = np.arange(10,30,5)\n",
        "print(e)"
      ],
      "execution_count": 24,
      "outputs": [
        {
          "output_type": "stream",
          "text": [
            "[10 15 20 25]\n"
          ],
          "name": "stdout"
        }
      ]
    },
    {
      "cell_type": "code",
      "metadata": {
        "colab": {
          "base_uri": "https://localhost:8080/"
        },
        "id": "SwXLLU6we_75",
        "outputId": "32d74cea-7f4a-4864-c63d-12973809cc8a"
      },
      "source": [
        "# convert a list to a numpy array\n",
        "l2 = [10,20,30,40,50]\n",
        "np_ar = np.asarray(l2)\n",
        "print(np_ar)\n",
        "type(np_ar)"
      ],
      "execution_count": 26,
      "outputs": [
        {
          "output_type": "stream",
          "text": [
            "[10 20 30 40 50]\n"
          ],
          "name": "stdout"
        },
        {
          "output_type": "execute_result",
          "data": {
            "text/plain": [
              "numpy.ndarray"
            ]
          },
          "metadata": {
            "tags": []
          },
          "execution_count": 26
        }
      ]
    },
    {
      "cell_type": "code",
      "metadata": {
        "colab": {
          "base_uri": "https://localhost:8080/"
        },
        "id": "udL-eCllfmoL",
        "outputId": "7c9d7f94-0a96-4707-c258-27c64067f215"
      },
      "source": [
        "  # Analysing a numpy array\n",
        "  c = np.random.randint(10,90,(5,5))\n",
        "  print(c)"
      ],
      "execution_count": 27,
      "outputs": [
        {
          "output_type": "stream",
          "text": [
            "[[18 62 61 51 66]\n",
            " [26 67 80 27 48]\n",
            " [38 27 26 65 50]\n",
            " [27 19 49 57 41]\n",
            " [68 26 66 27 11]]\n"
          ],
          "name": "stdout"
        }
      ]
    },
    {
      "cell_type": "code",
      "metadata": {
        "colab": {
          "base_uri": "https://localhost:8080/"
        },
        "id": "KD02JeVUiaLH",
        "outputId": "c7c1c48a-434f-4bc7-90ce-3c067d70464a"
      },
      "source": [
        "# array dimension\n",
        "print(c.shape)"
      ],
      "execution_count": 28,
      "outputs": [
        {
          "output_type": "stream",
          "text": [
            "(5, 5)\n"
          ],
          "name": "stdout"
        }
      ]
    },
    {
      "cell_type": "code",
      "metadata": {
        "colab": {
          "base_uri": "https://localhost:8080/"
        },
        "id": "N6UUw3k1ichR",
        "outputId": "0a4ee2f0-3325-4e98-ceb6-5f96a2899d3e"
      },
      "source": [
        "# number of dimensions\n",
        "print(c.ndim)"
      ],
      "execution_count": 29,
      "outputs": [
        {
          "output_type": "stream",
          "text": [
            "2\n"
          ],
          "name": "stdout"
        }
      ]
    },
    {
      "cell_type": "code",
      "metadata": {
        "colab": {
          "base_uri": "https://localhost:8080/"
        },
        "id": "pfjTa66AigmV",
        "outputId": "38148078-5759-405c-f3ff-86a685d81196"
      },
      "source": [
        "# number of elements in an array\n",
        "print(c.size)"
      ],
      "execution_count": 30,
      "outputs": [
        {
          "output_type": "stream",
          "text": [
            "25\n"
          ],
          "name": "stdout"
        }
      ]
    },
    {
      "cell_type": "code",
      "metadata": {
        "colab": {
          "base_uri": "https://localhost:8080/"
        },
        "id": "qOeK8AUjjXtP",
        "outputId": "019e0387-6df5-4f26-cda1-f498b46423fd"
      },
      "source": [
        "# checking the data type of the values in the array\n",
        "print(c.dtype)"
      ],
      "execution_count": 31,
      "outputs": [
        {
          "output_type": "stream",
          "text": [
            "int64\n"
          ],
          "name": "stdout"
        }
      ]
    },
    {
      "cell_type": "markdown",
      "metadata": {
        "id": "RnIt1z9ZjdZP"
      },
      "source": [
        "#Mathematical operations on a np array"
      ]
    },
    {
      "cell_type": "code",
      "metadata": {
        "colab": {
          "base_uri": "https://localhost:8080/"
        },
        "id": "NqFqB0zujcbi",
        "outputId": "540f3d6a-aa24-4172-d04b-6e7b4e111db0"
      },
      "source": [
        "l1 = [1,2,3,4,5]\n",
        "l2 = [6,7,8,9,10]\n",
        "\n",
        "print(l1+l2)  # concatenate or joins two list"
      ],
      "execution_count": 32,
      "outputs": [
        {
          "output_type": "stream",
          "text": [
            "[1, 2, 3, 4, 5, 6, 7, 8, 9, 10]\n"
          ],
          "name": "stdout"
        }
      ]
    },
    {
      "cell_type": "code",
      "metadata": {
        "id": "ZN2AxOzpjoQ6"
      },
      "source": [
        "a = np.random.randint(0,10,(3,3))\n",
        "b = np.random.randint(10,20,(3,3))"
      ],
      "execution_count": 40,
      "outputs": []
    },
    {
      "cell_type": "code",
      "metadata": {
        "colab": {
          "base_uri": "https://localhost:8080/"
        },
        "id": "ayX35iiUjxv_",
        "outputId": "b3441188-f91c-47c7-e796-e0a3fa42294b"
      },
      "source": [
        "print(a)\n",
        "print(b)"
      ],
      "execution_count": 41,
      "outputs": [
        {
          "output_type": "stream",
          "text": [
            "[[3 1 2]\n",
            " [3 1 3]\n",
            " [0 0 8]]\n",
            "[[17 17 19]\n",
            " [13 12 12]\n",
            " [19 18 14]]\n"
          ],
          "name": "stdout"
        }
      ]
    },
    {
      "cell_type": "code",
      "metadata": {
        "colab": {
          "base_uri": "https://localhost:8080/"
        },
        "id": "E9IO7mRNjzMY",
        "outputId": "346c1d94-9405-4970-a11c-0e52ffee8aa4"
      },
      "source": [
        "print(a+b)\n",
        "print(a-b)\n",
        "print(a*b)\n",
        "print(a/b)"
      ],
      "execution_count": 42,
      "outputs": [
        {
          "output_type": "stream",
          "text": [
            "[[20 18 21]\n",
            " [16 13 15]\n",
            " [19 18 22]]\n",
            "[[-14 -16 -17]\n",
            " [-10 -11  -9]\n",
            " [-19 -18  -6]]\n",
            "[[ 51  17  38]\n",
            " [ 39  12  36]\n",
            " [  0   0 112]]\n",
            "[[0.17647059 0.05882353 0.10526316]\n",
            " [0.23076923 0.08333333 0.25      ]\n",
            " [0.         0.         0.57142857]]\n"
          ],
          "name": "stdout"
        }
      ]
    },
    {
      "cell_type": "code",
      "metadata": {
        "colab": {
          "base_uri": "https://localhost:8080/"
        },
        "id": "znToD7I7j7Iv",
        "outputId": "c5dc8cea-48ea-4053-eac2-d25d5c1bb98c"
      },
      "source": [
        "print(np.add(a,b))\n",
        "print(np.subtract(a,b))\n",
        "print(np.multiply(a,b))\n",
        "print(np.divide(a,b))"
      ],
      "execution_count": 43,
      "outputs": [
        {
          "output_type": "stream",
          "text": [
            "[[20 18 21]\n",
            " [16 13 15]\n",
            " [19 18 22]]\n",
            "[[-14 -16 -17]\n",
            " [-10 -11  -9]\n",
            " [-19 -18  -6]]\n",
            "[[ 51  17  38]\n",
            " [ 39  12  36]\n",
            " [  0   0 112]]\n",
            "[[0.17647059 0.05882353 0.10526316]\n",
            " [0.23076923 0.08333333 0.25      ]\n",
            " [0.         0.         0.57142857]]\n"
          ],
          "name": "stdout"
        }
      ]
    },
    {
      "cell_type": "markdown",
      "metadata": {
        "id": "aCWe6jaZkyBr"
      },
      "source": [
        "#Array Manipulation"
      ]
    },
    {
      "cell_type": "code",
      "metadata": {
        "colab": {
          "base_uri": "https://localhost:8080/"
        },
        "id": "TSA-TVxCkWSE",
        "outputId": "6219f7f8-ac8c-4e74-b38e-680dee1c1ab2"
      },
      "source": [
        "ar = np.random.randint(0,10,(2,3))\n",
        "print(ar)\n",
        "print(ar.shape)"
      ],
      "execution_count": 44,
      "outputs": [
        {
          "output_type": "stream",
          "text": [
            "[[9 5 3]\n",
            " [1 0 7]]\n",
            "(2, 3)\n"
          ],
          "name": "stdout"
        }
      ]
    },
    {
      "cell_type": "code",
      "metadata": {
        "colab": {
          "base_uri": "https://localhost:8080/"
        },
        "id": "hFLgVLxIk3Ts",
        "outputId": "a47ab0d3-593d-4b5c-b2e2-713a945d5bd8"
      },
      "source": [
        "# transpose\n",
        "tp = np.transpose(ar)\n",
        "print(tp)\n",
        "print(tp.shape)"
      ],
      "execution_count": 45,
      "outputs": [
        {
          "output_type": "stream",
          "text": [
            "[[9 1]\n",
            " [5 0]\n",
            " [3 7]]\n",
            "(3, 2)\n"
          ],
          "name": "stdout"
        }
      ]
    },
    {
      "cell_type": "code",
      "metadata": {
        "colab": {
          "base_uri": "https://localhost:8080/"
        },
        "id": "PZ7tG07Nk8pz",
        "outputId": "ca7c07d6-5d03-4cfd-a10f-d835ce111c2f"
      },
      "source": [
        "ar2 = np.random.randint(0,10,(2,3))\n",
        "print(ar2)\n",
        "print(ar2.shape)"
      ],
      "execution_count": 46,
      "outputs": [
        {
          "output_type": "stream",
          "text": [
            "[[2 4 7]\n",
            " [1 6 6]]\n",
            "(2, 3)\n"
          ],
          "name": "stdout"
        }
      ]
    },
    {
      "cell_type": "code",
      "metadata": {
        "colab": {
          "base_uri": "https://localhost:8080/"
        },
        "id": "FPqzsoNVlDtt",
        "outputId": "59137d04-fddf-45b9-a94d-8250d4fca005"
      },
      "source": [
        "tp2 = ar2.T\n",
        "print(tp2)\n",
        "print(tp2.shape)"
      ],
      "execution_count": 48,
      "outputs": [
        {
          "output_type": "stream",
          "text": [
            "[[2 1]\n",
            " [4 6]\n",
            " [7 6]]\n",
            "(3, 2)\n"
          ],
          "name": "stdout"
        }
      ]
    },
    {
      "cell_type": "code",
      "metadata": {
        "colab": {
          "base_uri": "https://localhost:8080/"
        },
        "id": "begZc6rplIn5",
        "outputId": "fcef1181-26fc-460f-891f-4fc7607fa843"
      },
      "source": [
        "# reshaping an array\n",
        "a = np.random.randint(0,10,(2,3))\n",
        "print(a)\n",
        "print(a.shape)"
      ],
      "execution_count": 49,
      "outputs": [
        {
          "output_type": "stream",
          "text": [
            "[[6 7 0]\n",
            " [3 2 4]]\n",
            "(2, 3)\n"
          ],
          "name": "stdout"
        }
      ]
    },
    {
      "cell_type": "code",
      "metadata": {
        "colab": {
          "base_uri": "https://localhost:8080/"
        },
        "id": "EAbTCU1SlUfZ",
        "outputId": "df3aee58-f3be-42e2-f68f-cc8ae31a7e35"
      },
      "source": [
        "b = a.reshape(3,2)\n",
        "print(b)\n",
        "print(b.shape)"
      ],
      "execution_count": 50,
      "outputs": [
        {
          "output_type": "stream",
          "text": [
            "[[6 7]\n",
            " [0 3]\n",
            " [2 4]]\n",
            "(3, 2)\n"
          ],
          "name": "stdout"
        }
      ]
    },
    {
      "cell_type": "code",
      "metadata": {
        "id": "8Ighy-xflcBb"
      },
      "source": [
        ""
      ],
      "execution_count": null,
      "outputs": []
    }
  ]
}