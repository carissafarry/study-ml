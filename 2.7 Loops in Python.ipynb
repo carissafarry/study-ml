{
  "nbformat": 4,
  "nbformat_minor": 0,
  "metadata": {
    "colab": {
      "name": "2.7 Loops in Python.ipynb",
      "provenance": [],
      "authorship_tag": "ABX9TyMogQeSZLi2TSZ2TZkZEGtF",
      "include_colab_link": true
    },
    "kernelspec": {
      "name": "python3",
      "display_name": "Python 3"
    },
    "language_info": {
      "name": "python"
    }
  },
  "cells": [
    {
      "cell_type": "markdown",
      "metadata": {
        "id": "view-in-github",
        "colab_type": "text"
      },
      "source": [
        "<a href=\"https://colab.research.google.com/github/carissafarry/study-ml/blob/main/2.7%20Loops%20in%20Python.ipynb\" target=\"_parent\"><img src=\"https://colab.research.google.com/assets/colab-badge.svg\" alt=\"Open In Colab\"/></a>"
      ]
    },
    {
      "cell_type": "markdown",
      "metadata": {
        "id": "xdTiGnqMfecI"
      },
      "source": [
        "# For loop"
      ]
    },
    {
      "cell_type": "code",
      "metadata": {
        "colab": {
          "base_uri": "https://localhost:8080/"
        },
        "id": "gcNE4YGGe42D",
        "outputId": "a8343e28-5900-4115-aa9d-03ff1970c515"
      },
      "source": [
        "laptop1 = int(input('Enter the price of the laptop : '))\n",
        "laptop2 = int(input('Enter the price of the laptop : '))\n",
        "laptop3 = int(input('Enter the price of the laptop : '))\n",
        "laptop4 = int(input('Enter the price of the laptop : '))\n",
        "laptop5 = int(input('Enter the price of the laptop : '))"
      ],
      "execution_count": 3,
      "outputs": [
        {
          "output_type": "stream",
          "text": [
            "Enter the price of the laptop : 2000\n",
            "Enter the price of the laptop : 3000\n",
            "Enter the price of the laptop : 4000\n",
            "Enter the price of the laptop : 5000\n",
            "Enter the price of the laptop : 6000\n"
          ],
          "name": "stdout"
        }
      ]
    },
    {
      "cell_type": "code",
      "metadata": {
        "colab": {
          "base_uri": "https://localhost:8080/"
        },
        "id": "gLVIQepbfxtm",
        "outputId": "36b1a9e0-a92c-4aa6-d795-a4fe3d41ef0d"
      },
      "source": [
        "for i in range(5):  # 0,1,2,3,4\n",
        "  laptop_price = int(input('Enter the price of the laptop : '))"
      ],
      "execution_count": 4,
      "outputs": [
        {
          "output_type": "stream",
          "text": [
            "Enter the price of the laptop : 2000\n",
            "Enter the price of the laptop : 3000\n",
            "Enter the price of the laptop : 4000\n",
            "Enter the price of the laptop : 5000\n",
            "Enter the price of the laptop : 6000\n"
          ],
          "name": "stdout"
        }
      ]
    },
    {
      "cell_type": "code",
      "metadata": {
        "colab": {
          "base_uri": "https://localhost:8080/"
        },
        "id": "nnArpMOdgFMy",
        "outputId": "36fe5f9a-4e86-462f-9053-d1f8adb97997"
      },
      "source": [
        "print(laptop_price)"
      ],
      "execution_count": 7,
      "outputs": [
        {
          "output_type": "stream",
          "text": [
            "6000\n"
          ],
          "name": "stdout"
        }
      ]
    },
    {
      "cell_type": "code",
      "metadata": {
        "colab": {
          "base_uri": "https://localhost:8080/"
        },
        "id": "0uhTSkoBgcOt",
        "outputId": "1266beac-8b4a-4249-c240-219a2b041679"
      },
      "source": [
        "numbers = [50,100,150,200]\n",
        "\n",
        "print(numbers[0])\n",
        "print(numbers[1])\n",
        "print(numbers[2])\n",
        "print(numbers[3])"
      ],
      "execution_count": 9,
      "outputs": [
        {
          "output_type": "stream",
          "text": [
            "50\n",
            "100\n",
            "150\n",
            "200\n"
          ],
          "name": "stdout"
        }
      ]
    },
    {
      "cell_type": "code",
      "metadata": {
        "colab": {
          "base_uri": "https://localhost:8080/"
        },
        "id": "wB5PyTF3ghyG",
        "outputId": "b4d410b6-db61-460c-8b3c-b878906fcba3"
      },
      "source": [
        "for i in numbers:\n",
        "  print(i)"
      ],
      "execution_count": 11,
      "outputs": [
        {
          "output_type": "stream",
          "text": [
            "50\n",
            "100\n",
            "150\n",
            "200\n"
          ],
          "name": "stdout"
        }
      ]
    },
    {
      "cell_type": "markdown",
      "metadata": {
        "id": "degNmSJ2grKS"
      },
      "source": [
        "#While Loop"
      ]
    },
    {
      "cell_type": "code",
      "metadata": {
        "colab": {
          "base_uri": "https://localhost:8080/"
        },
        "id": "2XJQjr-YglwR",
        "outputId": "cd34418c-5d9a-4f85-f491-dd392993e77d"
      },
      "source": [
        "i = 0\n",
        "\n",
        "while i < 10:\n",
        "  print(i)\n",
        "  i+=1"
      ],
      "execution_count": 14,
      "outputs": [
        {
          "output_type": "stream",
          "text": [
            "0\n",
            "1\n",
            "2\n",
            "3\n",
            "4\n",
            "5\n",
            "6\n",
            "7\n",
            "8\n",
            "9\n"
          ],
          "name": "stdout"
        }
      ]
    },
    {
      "cell_type": "code",
      "metadata": {
        "id": "G5uo54seg4R7"
      },
      "source": [
        "i = 5\n",
        "\n",
        "while i<3:\n",
        "  print(i)"
      ],
      "execution_count": 17,
      "outputs": []
    },
    {
      "cell_type": "code",
      "metadata": {
        "id": "f0l_FtIkhOR4"
      },
      "source": [
        ""
      ],
      "execution_count": null,
      "outputs": []
    }
  ]
}