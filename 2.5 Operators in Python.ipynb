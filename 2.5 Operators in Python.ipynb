{
  "nbformat": 4,
  "nbformat_minor": 0,
  "metadata": {
    "colab": {
      "name": "2.5 Operators in Python.ipynb",
      "provenance": [],
      "collapsed_sections": [
        "HxTL1i4z15uH",
        "OK5GYoYE2pSH"
      ],
      "authorship_tag": "ABX9TyOQK5Xkdr9vCGjsrTfAZ8fy",
      "include_colab_link": true
    },
    "kernelspec": {
      "name": "python3",
      "display_name": "Python 3"
    },
    "language_info": {
      "name": "python"
    }
  },
  "cells": [
    {
      "cell_type": "markdown",
      "metadata": {
        "id": "view-in-github",
        "colab_type": "text"
      },
      "source": [
        "<a href=\"https://colab.research.google.com/github/carissafarry/study-ml/blob/main/2.5%20Operators%20in%20Python.ipynb\" target=\"_parent\"><img src=\"https://colab.research.google.com/assets/colab-badge.svg\" alt=\"Open In Colab\"/></a>"
      ]
    },
    {
      "cell_type": "markdown",
      "metadata": {
        "id": "Sg7a0mYm1nyY"
      },
      "source": [
        "Operators in Python:\n",
        "1. Arithmetic Operators\n",
        "2. Assignment Operators\n",
        "3. Comparison Operators\n",
        "4. Logical Operators\n",
        "5. Identity Operators\n",
        "6. Membership Operators"
      ]
    },
    {
      "cell_type": "markdown",
      "metadata": {
        "id": "HxTL1i4z15uH"
      },
      "source": [
        "#Arithmetic Operators"
      ]
    },
    {
      "cell_type": "code",
      "metadata": {
        "colab": {
          "base_uri": "https://localhost:8080/"
        },
        "id": "50VTPtVL1fbW",
        "outputId": "644a6f20-23cd-418b-aac2-bd769677eb35"
      },
      "source": [
        "num1 = 20\n",
        "num2 = 10\n",
        "\n",
        "# addition\n",
        "sum = num1 + num2\n",
        "print('sum = ', sum)\n",
        "\n",
        "# substraction\n",
        "diff = num1 - num2\n",
        "print ('difference = ', diff)\n",
        "\n",
        "# multiplication\n",
        "pro = num1 * num2\n",
        "print('product = ', pro)\n",
        "\n",
        "# division\n",
        "quo = num1/num2\n",
        "print('quotient = ', quo)\n",
        "\n",
        "# exponent\n",
        "exp =num1**num2  # 20^10\n",
        "print('exponent = ', exp)\n",
        "\n",
        "# modulus\n",
        "mod = num1 % num2\n",
        "print('reminder = ', mod)"
      ],
      "execution_count": null,
      "outputs": [
        {
          "output_type": "stream",
          "text": [
            "sum =  30\n",
            "difference =  10\n",
            "product =  200\n",
            "quotient =  2.0\n",
            "exponent =  10240000000000\n",
            "reminder =  0\n"
          ],
          "name": "stdout"
        }
      ]
    },
    {
      "cell_type": "markdown",
      "metadata": {
        "id": "OK5GYoYE2pSH"
      },
      "source": [
        "#Assignment Operators"
      ]
    },
    {
      "cell_type": "markdown",
      "metadata": {
        "id": "GUpwhlmj2-oo"
      },
      "source": [
        "+=\n",
        "\n",
        "-=\n",
        "\n",
        "*=\n",
        "\n",
        "**=\n",
        "\n",
        "/-\n",
        "\n",
        "%="
      ]
    },
    {
      "cell_type": "code",
      "metadata": {
        "colab": {
          "base_uri": "https://localhost:8080/"
        },
        "id": "nlCMUlS52ok0",
        "outputId": "057a3ccc-2746-4b67-c2c1-e2f659c096ec"
      },
      "source": [
        "a = 5\n",
        "print(a)"
      ],
      "execution_count": null,
      "outputs": [
        {
          "output_type": "stream",
          "text": [
            "5\n"
          ],
          "name": "stdout"
        }
      ]
    },
    {
      "cell_type": "code",
      "metadata": {
        "colab": {
          "base_uri": "https://localhost:8080/"
        },
        "id": "hSwnlh0V2vBu",
        "outputId": "4aa514c3-31a1-4bb8-856b-a25f31e3c5e5"
      },
      "source": [
        "a = 5\n",
        "a += 5  # a = a+5\n",
        "print(a)"
      ],
      "execution_count": null,
      "outputs": [
        {
          "output_type": "stream",
          "text": [
            "10\n"
          ],
          "name": "stdout"
        }
      ]
    },
    {
      "cell_type": "code",
      "metadata": {
        "colab": {
          "base_uri": "https://localhost:8080/"
        },
        "id": "p3esozHH21mR",
        "outputId": "893c3714-7a10-48cd-a48d-87ddef69274f"
      },
      "source": [
        "b = 5\n",
        "b -= 2  # b = b - 2\n",
        "print(b)"
      ],
      "execution_count": null,
      "outputs": [
        {
          "output_type": "stream",
          "text": [
            "3\n"
          ],
          "name": "stdout"
        }
      ]
    },
    {
      "cell_type": "markdown",
      "metadata": {
        "id": "WZTnpXUz3Fez"
      },
      "source": [
        "# Comparison Operators"
      ]
    },
    {
      "cell_type": "code",
      "metadata": {
        "id": "Uz26MUak25ev",
        "colab": {
          "base_uri": "https://localhost:8080/"
        },
        "outputId": "892dc094-d8ed-4e92-e5c2-ad662e23dcf7"
      },
      "source": [
        "a = 5\n",
        "b = 10\n",
        "\n",
        "print(a == b)  # equal to \n",
        "print(a != b)  # not equal to\n",
        "print(a > b)  # greater than\n",
        "print(a < b)\n",
        "print(a <= b)\n",
        "print(a >= b)\n"
      ],
      "execution_count": 2,
      "outputs": [
        {
          "output_type": "stream",
          "text": [
            "False\n",
            "True\n",
            "False\n",
            "True\n",
            "True\n",
            "False\n"
          ],
          "name": "stdout"
        }
      ]
    },
    {
      "cell_type": "markdown",
      "metadata": {
        "id": "QlF-B2a_2ujT"
      },
      "source": [
        "# Logical Operators"
      ]
    },
    {
      "cell_type": "markdown",
      "metadata": {
        "id": "ZpUVHxlw2zoP"
      },
      "source": [
        "and\n",
        "\n",
        "or\n",
        "\n",
        "not"
      ]
    },
    {
      "cell_type": "code",
      "metadata": {
        "colab": {
          "base_uri": "https://localhost:8080/"
        },
        "id": "Gxri1Dcd2tw1",
        "outputId": "d362eaf5-75f9-4474-cb05-6ddb43b57e39"
      },
      "source": [
        "a = 10\n",
        "print( a>20 and a>5)\n",
        "print( a>20 or a>5)\n",
        "print( not( a>8 and a>5))"
      ],
      "execution_count": 6,
      "outputs": [
        {
          "output_type": "stream",
          "text": [
            "False\n",
            "True\n",
            "False\n"
          ],
          "name": "stdout"
        }
      ]
    },
    {
      "cell_type": "markdown",
      "metadata": {
        "id": "9j03mtTO3QXT"
      },
      "source": [
        "#Identity Operator"
      ]
    },
    {
      "cell_type": "markdown",
      "metadata": {
        "id": "pAEHEA5-3UBg"
      },
      "source": [
        "is\n",
        "\n",
        "is not"
      ]
    },
    {
      "cell_type": "code",
      "metadata": {
        "colab": {
          "base_uri": "https://localhost:8080/"
        },
        "id": "QjgCgQ9t3OSr",
        "outputId": "02aba01f-e1e5-4fd0-8801-278ec55dd3a2"
      },
      "source": [
        "x = 5 \n",
        "y = 5\n",
        "\n",
        "print(x is y)"
      ],
      "execution_count": 8,
      "outputs": [
        {
          "output_type": "stream",
          "text": [
            "True\n"
          ],
          "name": "stdout"
        }
      ]
    },
    {
      "cell_type": "code",
      "metadata": {
        "colab": {
          "base_uri": "https://localhost:8080/"
        },
        "id": "Lizb4HTx3cfJ",
        "outputId": "0e5e1a21-3432-49a5-c8da-0798ee01fe9d"
      },
      "source": [
        "x = 5 \n",
        "y = 10\n",
        "\n",
        "print(x is y)"
      ],
      "execution_count": 10,
      "outputs": [
        {
          "output_type": "stream",
          "text": [
            "False\n"
          ],
          "name": "stdout"
        }
      ]
    },
    {
      "cell_type": "code",
      "metadata": {
        "colab": {
          "base_uri": "https://localhost:8080/"
        },
        "id": "uabTpkEA3dxs",
        "outputId": "a5a40174-689c-451e-bd33-e2c36bd5b37b"
      },
      "source": [
        "x = 5 \n",
        "y = 5\n",
        "\n",
        "print(x is not y)"
      ],
      "execution_count": 12,
      "outputs": [
        {
          "output_type": "stream",
          "text": [
            "False\n"
          ],
          "name": "stdout"
        }
      ]
    },
    {
      "cell_type": "code",
      "metadata": {
        "colab": {
          "base_uri": "https://localhost:8080/"
        },
        "id": "Jj1NbNzj3gvU",
        "outputId": "8d919336-d9fc-42dd-a585-49213a3a3eeb"
      },
      "source": [
        "x = 5 \n",
        "y = 10\n",
        "\n",
        "print(x is not y)"
      ],
      "execution_count": 14,
      "outputs": [
        {
          "output_type": "stream",
          "text": [
            "True\n"
          ],
          "name": "stdout"
        }
      ]
    },
    {
      "cell_type": "markdown",
      "metadata": {
        "id": "UoHKTgkR3lfQ"
      },
      "source": [
        "#Membership Operator"
      ]
    },
    {
      "cell_type": "markdown",
      "metadata": {
        "id": "II3jzshY3odx"
      },
      "source": [
        "in\n",
        "\n",
        "not in"
      ]
    },
    {
      "cell_type": "code",
      "metadata": {
        "colab": {
          "base_uri": "https://localhost:8080/"
        },
        "id": "tyLHFaNe3kuU",
        "outputId": "263639d5-f6cf-4922-8f95-b7729e9109c0"
      },
      "source": [
        "a = 5\n",
        "b = 10\n",
        "\n",
        "c = [1,2,3,4,5]\n",
        "print( a in c)\n",
        "print( b in c ) "
      ],
      "execution_count": 16,
      "outputs": [
        {
          "output_type": "stream",
          "text": [
            "True\n",
            "False\n"
          ],
          "name": "stdout"
        }
      ]
    },
    {
      "cell_type": "code",
      "metadata": {
        "colab": {
          "base_uri": "https://localhost:8080/"
        },
        "id": "7G1gN8W-3yTA",
        "outputId": "4dde6f76-9561-4e3f-f64b-9bac78b9c3e7"
      },
      "source": [
        "a = 5\n",
        "b = 10\n",
        "\n",
        "c = [1,2,3,4,5]\n",
        "print( a not in c)\n",
        "print( b not in c ) "
      ],
      "execution_count": 17,
      "outputs": [
        {
          "output_type": "stream",
          "text": [
            "False\n",
            "True\n"
          ],
          "name": "stdout"
        }
      ]
    }
  ]
}